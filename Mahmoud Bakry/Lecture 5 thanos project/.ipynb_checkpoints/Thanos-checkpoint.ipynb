{
 "cells": [
  {
   "cell_type": "code",
   "execution_count": 13,
   "id": "1542ecb2",
   "metadata": {},
   "outputs": [],
   "source": [
    "import os \n",
    "import random\n",
    "def half_people():\n",
    "    return os.listdir('Project 1 - Thanos/Project 1 - Thanos/backup')\n",
    "for i in range(len(half_people())//2):\n",
    "    people=half_people()\n",
    "    random_victim=random.choice(people)\n",
    "    os.remove('Project 1 - Thanos/Project 1 - Thanos/backup/'+random_victim)"
   ]
  },
  {
   "cell_type": "code",
   "execution_count": null,
   "id": "5928c065",
   "metadata": {},
   "outputs": [],
   "source": []
  }
 ],
 "metadata": {
  "kernelspec": {
   "display_name": "Python 3",
   "language": "python",
   "name": "python3"
  },
  "language_info": {
   "codemirror_mode": {
    "name": "ipython",
    "version": 3
   },
   "file_extension": ".py",
   "mimetype": "text/x-python",
   "name": "python",
   "nbconvert_exporter": "python",
   "pygments_lexer": "ipython3",
   "version": "3.8.8"
  }
 },
 "nbformat": 4,
 "nbformat_minor": 5
}
