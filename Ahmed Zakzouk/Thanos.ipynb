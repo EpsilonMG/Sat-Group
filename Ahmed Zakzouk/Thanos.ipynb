{
 "cells": [
  {
   "cell_type": "markdown",
   "source": [
    "## Thanos Project"
   ],
   "metadata": {}
  },
  {
   "cell_type": "code",
   "execution_count": 101,
   "source": [
    "import os , random\r\n",
    "# Method to retrieve full paths of File List given a specific Path\r\n",
    "def Retrive_Files_Paths ():\r\n",
    "    fullPaths = []\r\n",
    "    # User input : Folder path\r\n",
    "    folderPath = input ('Enter Folder Path: ')\r\n",
    "    output = os.scandir(folderPath)\r\n",
    "    for element in output:\r\n",
    "        fullPaths.append(element.path)\r\n",
    "    return  fullPaths\r\n",
    "# Removing Half of the files given in list randomly \r\n",
    "def Remove_Half_Of_Files (filePaths):\r\n",
    "    deletedFilesNum = 0\r\n",
    "    deletedFiles= []\r\n",
    "    for  i in range (0 , len (filePaths)//2):\r\n",
    "        random_File = random.choice (filePaths)\r\n",
    "        deletedFiles.append(random_File)\r\n",
    "        os.remove(random_File)\r\n",
    "        filePaths.remove(random_File)\r\n",
    "        deletedFilesNum+=1\r\n",
    "    return deletedFiles"
   ],
   "outputs": [],
   "metadata": {}
  },
  {
   "cell_type": "code",
   "execution_count": 102,
   "source": [
    "# Testing the Code\r\n",
    "filePaths = Retrive_Files_Paths()\r\n",
    "deletedFiles = Remove_Half_Of_Files(filePaths)\r\n",
    "print ('Files Removed : '+ str (len(deletedFiles)))\r\n",
    "print ('Deleted Files are: ')\r\n",
    "print (deletedFiles)\r\n",
    "\r\n"
   ],
   "outputs": [
    {
     "output_type": "stream",
     "name": "stdout",
     "text": [
      "Files Removed : 2\n",
      "Deleted Files are: \n",
      "['D:\\\\Test Folder\\\\3.PNG', 'D:\\\\Test Folder\\\\2.PNG']\n"
     ]
    }
   ],
   "metadata": {}
  }
 ],
 "metadata": {
  "orig_nbformat": 4,
  "language_info": {
   "name": "python",
   "version": "3.8.8",
   "mimetype": "text/x-python",
   "codemirror_mode": {
    "name": "ipython",
    "version": 3
   },
   "pygments_lexer": "ipython3",
   "nbconvert_exporter": "python",
   "file_extension": ".py"
  },
  "kernelspec": {
   "name": "python3",
   "display_name": "Python 3.8.8 64-bit ('base': conda)"
  },
  "interpreter": {
   "hash": "67fec0b8313160cbc4f40da23b059cb9d2bff6fa5a6f0dd18042a4b67475da13"
  }
 },
 "nbformat": 4,
 "nbformat_minor": 2
}