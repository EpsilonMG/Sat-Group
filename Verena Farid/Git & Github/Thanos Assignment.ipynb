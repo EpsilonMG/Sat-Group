{
 "cells": [
  {
   "cell_type": "code",
   "execution_count": 1,
   "metadata": {},
   "outputs": [],
   "source": [
    "import random \n",
    "import os"
   ]
  },
  {
   "cell_type": "code",
   "execution_count": 6,
   "metadata": {},
   "outputs": [],
   "source": [
    "def people_of_universe():\n",
    "    return os.listdir('Project 1 - Thanos/backup')\n"
   ]
  },
  {
   "cell_type": "code",
   "execution_count": 10,
   "metadata": {},
   "outputs": [
    {
     "data": {
      "text/plain": [
       "['cover006.png',\n",
       " 'cover012.png',\n",
       " 'cover013.png',\n",
       " 'cover007.png',\n",
       " 'cover039.png',\n",
       " 'cover011.png',\n",
       " 'cover005.png',\n",
       " 'cover004.png',\n",
       " 'cover010.png',\n",
       " 'cover038.png',\n",
       " 'cover014.png',\n",
       " 'cover028.png',\n",
       " 'cover029.png',\n",
       " 'cover001.png',\n",
       " 'cover015.png',\n",
       " 'cover003.png',\n",
       " 'cover017.png',\n",
       " 'cover016.png',\n",
       " 'cover002.png',\n",
       " 'cover048.png',\n",
       " 'cover049.png',\n",
       " 'cover044.png',\n",
       " 'cover050.png',\n",
       " 'cover045.png',\n",
       " 'cover047.png',\n",
       " 'cover046.png',\n",
       " 'cover042.png',\n",
       " 'cover043.png',\n",
       " 'cover041.png',\n",
       " 'cover040.png',\n",
       " 'cover027.png',\n",
       " 'cover033.png',\n",
       " 'cover032.png',\n",
       " 'cover026.png',\n",
       " 'cover018.png',\n",
       " 'cover030.png',\n",
       " 'cover024.png',\n",
       " 'cover025.png',\n",
       " 'cover031.png',\n",
       " 'cover019.png',\n",
       " 'cover035.png',\n",
       " 'cover021.png',\n",
       " 'cover009.png',\n",
       " 'cover008.png',\n",
       " 'cover020.png',\n",
       " 'cover034.png',\n",
       " 'cover022.png',\n",
       " 'cover036.png',\n",
       " 'cover037.png',\n",
       " 'cover023.png']"
      ]
     },
     "execution_count": 10,
     "metadata": {},
     "output_type": "execute_result"
    }
   ],
   "source": [
    "people=people_of_universe() \n",
    "people"
   ]
  },
  {
   "cell_type": "code",
   "execution_count": 13,
   "metadata": {},
   "outputs": [],
   "source": [
    "for i in range(len(people_of_universe())//2):\n",
    "    people=people_of_universe()\n",
    "    random_victim=random.choice(people)\n",
    "    os.remove('Project 1 - Thanos/backup/'+random_victim)\n"
   ]
  },
  {
   "cell_type": "code",
   "execution_count": 14,
   "metadata": {},
   "outputs": [
    {
     "data": {
      "text/plain": [
       "['cover007.png',\n",
       " 'cover011.png',\n",
       " 'cover010.png',\n",
       " 'cover015.png',\n",
       " 'cover003.png',\n",
       " 'cover048.png',\n",
       " 'cover042.png',\n",
       " 'cover033.png',\n",
       " 'cover030.png',\n",
       " 'cover025.png',\n",
       " 'cover031.png',\n",
       " 'cover021.png',\n",
       " 'cover009.png',\n",
       " 'cover023.png']"
      ]
     },
     "execution_count": 14,
     "metadata": {},
     "output_type": "execute_result"
    }
   ],
   "source": [
    "people"
   ]
  },
  {
   "cell_type": "code",
   "execution_count": null,
   "metadata": {},
   "outputs": [],
   "source": []
  }
 ],
 "metadata": {
  "kernelspec": {
   "display_name": "Python 3",
   "language": "python",
   "name": "python3"
  },
  "language_info": {
   "codemirror_mode": {
    "name": "ipython",
    "version": 3
   },
   "file_extension": ".py",
   "mimetype": "text/x-python",
   "name": "python",
   "nbconvert_exporter": "python",
   "pygments_lexer": "ipython3",
   "version": "3.7.6"
  }
 },
 "nbformat": 4,
 "nbformat_minor": 4
}
